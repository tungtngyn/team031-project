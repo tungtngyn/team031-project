{
 "cells": [
  {
   "cell_type": "code",
   "execution_count": 8,
   "metadata": {},
   "outputs": [],
   "source": [
    "import pandas as pd\n",
    "import numpy as np\n",
    "from sklearn.model_selection import train_test_split, RandomizedSearchCV\n",
    "from sklearn.metrics import mean_squared_error, mean_absolute_error, r2_score\n",
    "from sklearn.pipeline import Pipeline\n",
    "from catboost import CatBoostRegressor\n",
    "import joblib\n",
    "import matplotlib.pyplot as plt\n",
    "import os"
   ]
  },
  {
   "cell_type": "code",
   "execution_count": 10,
   "metadata": {},
   "outputs": [],
   "source": [
    "# Load data\n",
    "df = pd.read_csv(r'./data/processed-data.csv')"
   ]
  },
  {
   "cell_type": "code",
   "execution_count": 11,
   "metadata": {},
   "outputs": [],
   "source": [
    "# --- Feature engineering (make sure you run this before train/test split) ---\n",
    "df['lat_diff'] = df['latitude_2'] - df['latitude_1']\n",
    "df['lon_diff'] = df['longitude_2'] - df['longitude_1']\n",
    "df['same_state'] = (df['state_1'] == df['state_2']).astype(int)\n",
    "df['route'] = df['airport_iata_1'] + \"-\" + df['airport_iata_2']\n",
    "df['distance_bin'] = pd.cut(df['nsmiles'],\n",
    "                            bins=[0, 500, 1500, 3000, 6000],\n",
    "                            labels=['short', 'medium', 'long', 'ultra'])"
   ]
  },
  {
   "cell_type": "code",
   "execution_count": 12,
   "metadata": {},
   "outputs": [],
   "source": [
    "drop_cols = ['passengers', 'fare_lg', 'fare_low', 'large_ms', 'lf_ms']\n",
    "df = df.drop(columns=drop_cols)"
   ]
  },
  {
   "cell_type": "code",
   "execution_count": 13,
   "metadata": {},
   "outputs": [],
   "source": [
    "y = df['fare']\n",
    "X = df.drop(columns=['fare'])"
   ]
  },
  {
   "cell_type": "code",
   "execution_count": 14,
   "metadata": {},
   "outputs": [],
   "source": [
    "# --- Select usable features ---\n",
    "usable_features = [\n",
    "    'year', 'quarter', 'season', \n",
    "    'airport_iata_1', 'airport_iata_2',\n",
    "    'state_1', 'state_2',\n",
    "    'latitude_1', 'longitude_1',\n",
    "    'latitude_2', 'longitude_2',\n",
    "    'nsmiles',\n",
    "    'lat_diff', 'lon_diff', 'same_state', 'route', 'distance_bin'\n",
    "]\n",
    "X = df[usable_features]"
   ]
  },
  {
   "cell_type": "code",
   "execution_count": 15,
   "metadata": {},
   "outputs": [],
   "source": [
    "# Define categorical and numerical features\n",
    "cat_features = ['year', 'quarter', 'season', 'airport_iata_1', 'airport_iata_2',\n",
    "                'state_1', 'state_2', 'route', 'distance_bin']\n",
    "num_features = ['latitude_1', 'longitude_1', 'latitude_2', 'longitude_2',\n",
    "                'nsmiles', 'lat_diff', 'lon_diff', 'same_state']"
   ]
  },
  {
   "cell_type": "code",
   "execution_count": null,
   "metadata": {},
   "outputs": [],
   "source": [
    "# Convert categorical features to string type (helps CatBoost detect them correctly)\n",
    "X = X.copy()  \n",
    "\n",
    "for col in cat_features:\n",
    "    X[col] = X[col].astype(str)"
   ]
  },
  {
   "cell_type": "code",
   "execution_count": 18,
   "metadata": {},
   "outputs": [],
   "source": [
    "# Split data into training and testing sets\n",
    "X_train, X_test, y_train, y_test = train_test_split(\n",
    "    X, y, test_size=0.2, random_state=42\n",
    ")"
   ]
  },
  {
   "cell_type": "code",
   "execution_count": 19,
   "metadata": {},
   "outputs": [],
   "source": [
    "# Evaluation function for regression performance\n",
    "def evaluate_model(name, y_true, y_pred):\n",
    "    mse = mean_squared_error(y_true, y_pred)\n",
    "    rmse = np.sqrt(mse)\n",
    "    mae = mean_absolute_error(y_true, y_pred)\n",
    "    r2 = r2_score(y_true, y_pred)\n",
    "    # Avoid division by zero for MAPE\n",
    "    y_true_safe = np.where(y_true == 0, 1e-8, y_true)\n",
    "    mape = np.mean(np.abs((y_true - y_pred) / y_true_safe)) * 100\n",
    "\n",
    "    print(f\"\\n{name} Performance:\")\n",
    "    print(f\"  MSE : {mse:.2f}\")\n",
    "    print(f\"  RMSE: {rmse:.2f}\")\n",
    "    print(f\"  MAE : {mae:.2f}\")\n",
    "    print(f\"  R²  : {r2:.2f}\")\n",
    "    print(f\"  MAPE: {mape:.2f}%\")"
   ]
  },
  {
   "cell_type": "code",
   "execution_count": null,
   "metadata": {},
   "outputs": [],
   "source": [
    "### === CatBoost Model === ###\n",
    "# Since CatBoost handles categorical features natively,\n",
    "# we do not include a OneHotEncoder here.\n",
    "catboost_pipeline = Pipeline(steps=[\n",
    "    ('regressor', CatBoostRegressor(\n",
    "         iterations=100,           # analogous to n_estimators\n",
    "         learning_rate=0.1,\n",
    "         depth=6,                  # analogous to max_depth\n",
    "         random_seed=42,\n",
    "         cat_features=cat_features,\n",
    "         verbose=0                 # suppress verbose output during training\n",
    "    ))\n",
    "])\n",
    "\n",
    "catboost_pipeline.fit(X_train, y_train)\n",
    "y_pred_cb = catboost_pipeline.predict(X_test)"
   ]
  },
  {
   "cell_type": "code",
   "execution_count": 21,
   "metadata": {},
   "outputs": [
    {
     "name": "stdout",
     "output_type": "stream",
     "text": [
      "\n",
      "CatBoost Performance:\n",
      "  MSE : 2881.52\n",
      "  RMSE: 53.68\n",
      "  MAE : 34.51\n",
      "  R²  : 0.56\n",
      "  MAPE: 16.70%\n"
     ]
    }
   ],
   "source": [
    "evaluate_model(\"CatBoost\", y_test, y_pred_cb)"
   ]
  },
  {
   "cell_type": "code",
   "execution_count": 22,
   "metadata": {},
   "outputs": [
    {
     "name": "stdout",
     "output_type": "stream",
     "text": [
      "Fitting 3 folds for each of 10 candidates, totalling 30 fits\n",
      "[CV] END regressor__depth=4, regressor__iterations=100, regressor__learning_rate=0.01; total time=   9.4s\n",
      "[CV] END regressor__depth=4, regressor__iterations=100, regressor__learning_rate=0.01; total time=   9.6s\n",
      "[CV] END regressor__depth=4, regressor__iterations=100, regressor__learning_rate=0.01; total time=  10.0s\n",
      "[CV] END regressor__depth=4, regressor__iterations=100, regressor__learning_rate=0.1; total time=   9.9s\n",
      "[CV] END regressor__depth=4, regressor__iterations=100, regressor__learning_rate=0.1; total time=  10.0s\n",
      "[CV] END regressor__depth=4, regressor__iterations=100, regressor__learning_rate=0.1; total time=  10.8s\n",
      "[CV] END regressor__depth=6, regressor__iterations=100, regressor__learning_rate=0.3; total time=  14.2s\n",
      "[CV] END regressor__depth=6, regressor__iterations=100, regressor__learning_rate=0.3; total time=  14.6s\n",
      "[CV] END regressor__depth=6, regressor__iterations=100, regressor__learning_rate=0.3; total time=  14.2s\n",
      "[CV] END regressor__depth=4, regressor__iterations=200, regressor__learning_rate=0.3; total time=  28.0s\n",
      "[CV] END regressor__depth=4, regressor__iterations=200, regressor__learning_rate=0.3; total time=  29.3s\n",
      "[CV] END regressor__depth=4, regressor__iterations=200, regressor__learning_rate=0.3; total time=  32.6s\n",
      "[CV] END regressor__depth=4, regressor__iterations=200, regressor__learning_rate=0.01; total time=  29.7s\n",
      "[CV] END regressor__depth=4, regressor__iterations=200, regressor__learning_rate=0.01; total time=  30.4s\n",
      "[CV] END regressor__depth=4, regressor__iterations=200, regressor__learning_rate=0.01; total time=  28.1s\n",
      "[CV] END regressor__depth=8, regressor__iterations=100, regressor__learning_rate=0.1; total time=  26.1s\n",
      "[CV] END regressor__depth=8, regressor__iterations=100, regressor__learning_rate=0.1; total time=  17.6s\n",
      "[CV] END regressor__depth=8, regressor__iterations=100, regressor__learning_rate=0.1; total time=  17.2s\n",
      "[CV] END regressor__depth=8, regressor__iterations=200, regressor__learning_rate=0.1; total time= 1.5min\n",
      "[CV] END regressor__depth=8, regressor__iterations=200, regressor__learning_rate=0.1; total time= 1.5min\n",
      "[CV] END regressor__depth=8, regressor__iterations=200, regressor__learning_rate=0.1; total time= 1.4min\n",
      "[CV] END regressor__depth=8, regressor__iterations=200, regressor__learning_rate=0.01; total time= 1.2min\n",
      "[CV] END regressor__depth=8, regressor__iterations=200, regressor__learning_rate=0.01; total time= 1.1min\n",
      "[CV] END regressor__depth=8, regressor__iterations=200, regressor__learning_rate=0.01; total time= 1.1min\n",
      "[CV] END regressor__depth=6, regressor__iterations=200, regressor__learning_rate=0.3; total time= 1.1min\n",
      "[CV] END regressor__depth=6, regressor__iterations=200, regressor__learning_rate=0.3; total time= 1.0min\n",
      "[CV] END regressor__depth=6, regressor__iterations=200, regressor__learning_rate=0.3; total time=  50.9s\n",
      "[CV] END regressor__depth=4, regressor__iterations=100, regressor__learning_rate=0.3; total time=  10.2s\n",
      "[CV] END regressor__depth=4, regressor__iterations=100, regressor__learning_rate=0.3; total time=  12.7s\n",
      "[CV] END regressor__depth=4, regressor__iterations=100, regressor__learning_rate=0.3; total time=  16.6s\n",
      "Best params: {'regressor__learning_rate': 0.3, 'regressor__iterations': 200, 'regressor__depth': 6}\n"
     ]
    }
   ],
   "source": [
    "# Hyperparameter tuning with RandomizedSearchCV\n",
    "param_grid = {\n",
    "    'regressor__iterations': [100, 200],\n",
    "    'regressor__depth': [4, 6, 8],\n",
    "    'regressor__learning_rate': [0.01, 0.1, 0.3],\n",
    "}\n",
    "\n",
    "search = RandomizedSearchCV(\n",
    "    catboost_pipeline,\n",
    "    param_distributions=param_grid,\n",
    "    cv=3,\n",
    "    scoring='neg_root_mean_squared_error',\n",
    "    n_iter=10,\n",
    "    n_jobs=1,    # Running on a single job\n",
    "    verbose=2,\n",
    "    random_state=42\n",
    ")\n",
    "search.fit(X_train, y_train)\n",
    "print(\"Best params:\", search.best_params_)"
   ]
  },
  {
   "cell_type": "code",
   "execution_count": 23,
   "metadata": {},
   "outputs": [
    {
     "data": {
      "image/png": "[encoded data removed]",
      "text/plain": [
       "<Figure size 1000x600 with 1 Axes>"
      ]
     },
     "metadata": {},
     "output_type": "display_data"
    }
   ],
   "source": [
    "# Plot feature importance from the CatBoost model\n",
    "# Access the trained regressor from the pipeline\n",
    "cat_model = catboost_pipeline.named_steps['regressor']\n",
    "feature_importances = cat_model.get_feature_importance()\n",
    "\n",
    "plt.figure(figsize=(10, 6))\n",
    "plt.barh(X_train.columns, feature_importances)\n",
    "plt.title(\"CatBoost Feature Importance\")\n",
    "plt.xlabel(\"Importance\")\n",
    "plt.show()"
   ]
  },
  {
   "cell_type": "code",
   "execution_count": 24,
   "metadata": {},
   "outputs": [],
   "source": [
    "# Create a new model using the best hyperparameters from tuning\n",
    "best_cat_pipeline = Pipeline(steps=[\n",
    "    ('regressor', CatBoostRegressor(\n",
    "        iterations=search.best_params_['regressor__iterations'],\n",
    "        depth=search.best_params_['regressor__depth'],\n",
    "        learning_rate=search.best_params_['regressor__learning_rate'],\n",
    "        random_seed=42,\n",
    "        cat_features=cat_features,\n",
    "        verbose=0\n",
    "    ))\n",
    "])\n",
    "\n",
    "best_cat_pipeline.fit(X_train, y_train)\n",
    "y_pred_best = best_cat_pipeline.predict(X_test)\n"
   ]
  },
  {
   "cell_type": "code",
   "execution_count": 25,
   "metadata": {},
   "outputs": [
    {
     "name": "stdout",
     "output_type": "stream",
     "text": [
      "\n",
      "Tuned CatBoost Performance:\n",
      "  MSE : 2228.27\n",
      "  RMSE: 47.20\n",
      "  MAE : 28.00\n",
      "  R²  : 0.66\n",
      "  MAPE: 13.33%\n"
     ]
    }
   ],
   "source": [
    "evaluate_model(\"Tuned CatBoost\", y_test, y_pred_best)\n"
   ]
  },
  {
   "cell_type": "code",
   "execution_count": 26,
   "metadata": {},
   "outputs": [
    {
     "data": {
      "text/plain": [
       "['catboost_airfare_model.pkl']"
      ]
     },
     "execution_count": 26,
     "metadata": {},
     "output_type": "execute_result"
    }
   ],
   "source": [
    "# --- Save the model for your web app ---\n",
    "joblib.dump(best_cat_pipeline, \"catboost_airfare_model.pkl\")"
   ]
  }
 ],
 "metadata": {
  "kernelspec": {
   "display_name": "base",
   "language": "python",
   "name": "python3"
  },
  "language_info": {
   "codemirror_mode": {
    "name": "ipython",
    "version": 3
   },
   "file_extension": ".py",
   "mimetype": "text/x-python",
   "name": "python",
   "nbconvert_exporter": "python",
   "pygments_lexer": "ipython3",
   "version": "3.11.11"
  }
 },
 "nbformat": 4,
 "nbformat_minor": 2
}
